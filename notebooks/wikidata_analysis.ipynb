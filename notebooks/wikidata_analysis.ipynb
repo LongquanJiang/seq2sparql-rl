{
 "cells": [
  {
   "cell_type": "code",
   "execution_count": 1,
   "metadata": {
    "collapsed": true
   },
   "outputs": [],
   "source": [
    "import json"
   ]
  },
  {
   "cell_type": "markdown",
   "source": [
    "## Count recognized entities that are missing in the wikidata dump"
   ],
   "metadata": {
    "collapsed": false
   }
  },
  {
   "cell_type": "code",
   "execution_count": 2,
   "outputs": [],
   "source": [
    "labels_dict = json.load(open(\"../data/labels_dict.json\"))"
   ],
   "metadata": {
    "collapsed": false
   }
  },
  {
   "cell_type": "code",
   "execution_count": 6,
   "outputs": [],
   "source": [
    "startpoints_trainset = json.load(open(\"../data/LC-QuAD2/train_data/startPoints_trainset.json\"))\n",
    "startpoints_testset = json.load(open(\"../data/LC-QuAD2/test_data/startPoints_testset.json\"))"
   ],
   "metadata": {
    "collapsed": false
   }
  },
  {
   "cell_type": "code",
   "execution_count": 7,
   "outputs": [],
   "source": [
    "def get_missing_entities(startpoints, labels_dict):\n",
    "    missing_entities = list()\n",
    "    for k, v in startpoints.items():\n",
    "        for s in v:\n",
    "            if s not in labels_dict:\n",
    "                missing_entities.append(s)\n",
    "    return missing_entities"
   ],
   "metadata": {
    "collapsed": false
   }
  },
  {
   "cell_type": "code",
   "execution_count": 8,
   "outputs": [],
   "source": [
    "missing_entities_trainset = get_missing_entities(startpoints_trainset, labels_dict)\n",
    "missing_entities_testset = get_missing_entities(startpoints_testset, labels_dict)"
   ],
   "metadata": {
    "collapsed": false
   }
  },
  {
   "cell_type": "code",
   "execution_count": 11,
   "outputs": [
    {
     "name": "stdout",
     "output_type": "stream",
     "text": [
      "There are 79 entities that are missing in wikidata in the train set.\n"
     ]
    }
   ],
   "source": [
    "print(\"There are {0} entities that are missing in wikidata in the train set.\".format(\n",
    "    len(set(missing_entities_trainset)))\n",
    ")"
   ],
   "metadata": {
    "collapsed": false
   }
  },
  {
   "cell_type": "code",
   "execution_count": 10,
   "outputs": [
    {
     "name": "stdout",
     "output_type": "stream",
     "text": [
      "There are 17 entities that are missing in wikidata in the test set.\n"
     ]
    }
   ],
   "source": [
    "print(\"There are {0} entities that are missing in wikidata in the test set.\".format(\n",
    "    len(set(missing_entities_testset)))\n",
    ")"
   ],
   "metadata": {
    "collapsed": false
   }
  },
  {
   "cell_type": "code",
   "execution_count": null,
   "outputs": [],
   "source": [],
   "metadata": {
    "collapsed": false
   }
  }
 ],
 "metadata": {
  "kernelspec": {
   "display_name": "Python 3",
   "language": "python",
   "name": "python3"
  },
  "language_info": {
   "codemirror_mode": {
    "name": "ipython",
    "version": 2
   },
   "file_extension": ".py",
   "mimetype": "text/x-python",
   "name": "python",
   "nbconvert_exporter": "python",
   "pygments_lexer": "ipython2",
   "version": "2.7.6"
  }
 },
 "nbformat": 4,
 "nbformat_minor": 0
}
