{
 "cells": [
  {
   "cell_type": "code",
   "execution_count": 1,
   "metadata": {
    "collapsed": true
   },
   "outputs": [],
   "source": [
    "import json"
   ]
  },
  {
   "cell_type": "markdown",
   "source": [
    "## Count questions with empty golden answers returned by SkyNet"
   ],
   "metadata": {
    "collapsed": false
   }
  },
  {
   "cell_type": "code",
   "execution_count": 2,
   "outputs": [],
   "source": [
    "all_answers_trainset = json.load(open(\"../data/LC-QuAD2/train_data/all_answers_trainset.json\"))\n",
    "all_answers_testset = json.load(open(\"../data/LC-QuAD2/test_data/all_answers_testset.json\"))"
   ],
   "metadata": {
    "collapsed": false
   }
  },
  {
   "cell_type": "code",
   "execution_count": 3,
   "outputs": [],
   "source": [
    "def get_questions_empty_answers(data):\n",
    "    questions_empty_answers = list()\n",
    "    for k, v in data.items():\n",
    "        if len(v) == 0:\n",
    "            questions_empty_answers.append(k)\n",
    "    return questions_empty_answers"
   ],
   "metadata": {
    "collapsed": false
   }
  },
  {
   "cell_type": "code",
   "execution_count": 4,
   "outputs": [],
   "source": [
    "questions_empty_answers_trainset = get_questions_empty_answers(all_answers_trainset)\n",
    "questions_empty_answers_testset = get_questions_empty_answers(all_answers_testset)"
   ],
   "metadata": {
    "collapsed": false
   }
  },
  {
   "cell_type": "code",
   "execution_count": 9,
   "outputs": [
    {
     "name": "stdout",
     "output_type": "stream",
     "text": [
      "There are 8194(34.00%) questions with empty answers.\n"
     ]
    }
   ],
   "source": [
    "print(\"There are {0} ({1}%) questions with empty answers in the train set.\".format(len(questions_empty_answers_trainset), format(len(questions_empty_answers_trainset)/len(all_answers_trainset)*100, '.2f')))"
   ],
   "metadata": {
    "collapsed": false
   }
  },
  {
   "cell_type": "code",
   "execution_count": 10,
   "outputs": [
    {
     "name": "stdout",
     "output_type": "stream",
     "text": [
      "There are 2031 (33.72%) questions with empty answers in the test set.\n"
     ]
    }
   ],
   "source": [
    "print(\"There are {0} ({1}%) questions with empty answers in the test set.\".format(len(questions_empty_answers_testset), format(len(questions_empty_answers_testset)/len(all_answers_testset)*100, '.2f')))"
   ],
   "metadata": {
    "collapsed": false
   }
  },
  {
   "cell_type": "code",
   "execution_count": null,
   "outputs": [],
   "source": [],
   "metadata": {
    "collapsed": false
   }
  }
 ],
 "metadata": {
  "kernelspec": {
   "display_name": "Python 3",
   "language": "python",
   "name": "python3"
  },
  "language_info": {
   "codemirror_mode": {
    "name": "ipython",
    "version": 2
   },
   "file_extension": ".py",
   "mimetype": "text/x-python",
   "name": "python",
   "nbconvert_exporter": "python",
   "pygments_lexer": "ipython2",
   "version": "2.7.6"
  }
 },
 "nbformat": 4,
 "nbformat_minor": 0
}
